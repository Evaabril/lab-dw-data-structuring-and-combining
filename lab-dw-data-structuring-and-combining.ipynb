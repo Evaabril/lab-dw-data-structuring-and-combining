{
 "cells": [
  {
   "cell_type": "markdown",
   "id": "25d7736c-ba17-4aff-b6bb-66eba20fbf4e",
   "metadata": {
    "id": "25d7736c-ba17-4aff-b6bb-66eba20fbf4e"
   },
   "source": [
    "# Lab | Data Structuring and Combining Data"
   ]
  },
  {
   "cell_type": "markdown",
   "id": "a2cdfc70-44c8-478c-81e7-2bc43fdf4986",
   "metadata": {
    "id": "a2cdfc70-44c8-478c-81e7-2bc43fdf4986"
   },
   "source": [
    "## Challenge 1: Combining & Cleaning Data\n",
    "\n",
    "In this challenge, we will be working with the customer data from an insurance company, as we did in the two previous labs. The data can be found here:\n",
    "- https://raw.githubusercontent.com/data-bootcamp-v4/data/main/file1.csv\n",
    "\n",
    "But this time, we got new data, which can be found in the following 2 CSV files located at the links below.\n",
    "\n",
    "- https://raw.githubusercontent.com/data-bootcamp-v4/data/main/file2.csv\n",
    "- https://raw.githubusercontent.com/data-bootcamp-v4/data/main/file3.csv\n",
    "\n",
    "Note that you'll need to clean and format the new data.\n",
    "\n",
    "Observation:\n",
    "- One option is to first combine the three datasets and then apply the cleaning function to the new combined dataset\n",
    "- Another option would be to read the clean file you saved in the previous lab, and just clean the two new files and concatenate the three clean datasets"
   ]
  },
  {
   "cell_type": "code",
   "execution_count": null,
   "id": "492d06e3-92c7-4105-ac72-536db98d3244",
   "metadata": {
    "id": "492d06e3-92c7-4105-ac72-536db98d3244"
   },
   "outputs": [],
   "source": [
    "import pandas as pd\n",
    "url= 'new_sales_df.csv'\n",
    "new_sales= pd.read_csv (\"https://raw.githubusercontent.com/data-bootcamp-v4/data/main/file1.csv\")\n",
    "sales2_df = pd.read_csv(\"https://raw.githubusercontent.com/data-bootcamp-v4/data/main/file2.csv\")\n",
    "sales3_df= pd.read_csv (\"https://raw.githubusercontent.com/data-bootcamp-v4/data/main/file3.csv\")"
   ]
  },
  {
   "cell_type": "code",
   "execution_count": null,
   "id": "46f16f2f-f314-4eff-b952-efbe795992a9",
   "metadata": {},
   "outputs": [],
   "source": [
    "new_sales.head()"
   ]
  },
  {
   "cell_type": "code",
   "execution_count": null,
   "id": "02e5d153-0f3d-4a8e-9841-b896890ac409",
   "metadata": {},
   "outputs": [],
   "source": [
    "new_sales.shape"
   ]
  },
  {
   "cell_type": "code",
   "execution_count": null,
   "id": "3cf24781-ca95-4775-9fd7-4eff23fd17e9",
   "metadata": {},
   "outputs": [],
   "source": [
    "sales2_df.shape"
   ]
  },
  {
   "cell_type": "code",
   "execution_count": null,
   "id": "24cf36b9-6f8b-4247-8bac-98db528ea41d",
   "metadata": {},
   "outputs": [],
   "source": [
    "sales3_df.shape"
   ]
  },
  {
   "cell_type": "code",
   "execution_count": null,
   "id": "1f55b33c-cb43-43a5-86e5-37b0ba98ba7e",
   "metadata": {},
   "outputs": [],
   "source": [
    "new_sales.columns"
   ]
  },
  {
   "cell_type": "code",
   "execution_count": null,
   "id": "8855a494-2d7c-4bad-95bf-4b752c73c331",
   "metadata": {},
   "outputs": [],
   "source": [
    "sales2_df.rename(columns={'ST': 'state'}, inplace=True)\n",
    "sales2_df.columns"
   ]
  },
  {
   "cell_type": "code",
   "execution_count": null,
   "id": "81b20760-3c5f-4fe6-a244-243ecfb3a1fb",
   "metadata": {
    "scrolled": true
   },
   "outputs": [],
   "source": [
    "sales2_df.columns = sales2_df.columns.str.lower()"
   ]
  },
  {
   "cell_type": "code",
   "execution_count": null,
   "id": "5414c1ad-095a-4180-b1ba-b6ec24745270",
   "metadata": {},
   "outputs": [],
   "source": [
    "sales3_df.columns = sales3_df.columns.str.lower()"
   ]
  },
  {
   "cell_type": "code",
   "execution_count": null,
   "id": "3a935563-8b4d-4f16-9513-0c08c61ee3ce",
   "metadata": {},
   "outputs": [],
   "source": [
    "sales2_df.columns = sales2_df.columns.str.replace(\" \",\"_\")\n",
    "sales2_df.columns"
   ]
  },
  {
   "cell_type": "code",
   "execution_count": null,
   "id": "baa2d3a0-8479-4b8e-a9f1-03ddf56baa8c",
   "metadata": {},
   "outputs": [],
   "source": [
    "sales3_df.columns = sales3_df.columns.str.replace(\" \",\"_\")\n",
    "sales3_df.columns"
   ]
  },
  {
   "cell_type": "code",
   "execution_count": null,
   "id": "5d78ff5f-b15a-48a0-9b37-3c0bdbc3cc37",
   "metadata": {},
   "outputs": [],
   "source": [
    "suma_sales_total= pd.concat([new_sales, sales2_df, sales3_df], axis=0)\n",
    "suma_sales_total"
   ]
  },
  {
   "cell_type": "markdown",
   "id": "31b8a9e7-7db9-4604-991b-ef6771603e57",
   "metadata": {
    "id": "31b8a9e7-7db9-4604-991b-ef6771603e57"
   },
   "source": [
    "# Challenge 2: Structuring Data"
   ]
  },
  {
   "cell_type": "markdown",
   "id": "a877fd6d-7a0c-46d2-9657-f25036e4ca4b",
   "metadata": {
    "id": "a877fd6d-7a0c-46d2-9657-f25036e4ca4b"
   },
   "source": [
    "In this challenge, we will continue to work with customer data from an insurance company, but we will use a dataset with more columns, called marketing_customer_analysis.csv, which can be found at the following link:\n",
    "\n",
    "https://raw.githubusercontent.com/data-bootcamp-v4/data/main/marketing_customer_analysis_clean.csv\n",
    "\n",
    "This dataset contains information such as customer demographics, policy details, vehicle information, and the customer's response to the last marketing campaign. Our goal is to explore and analyze this data by performing data cleaning, formatting, and structuring."
   ]
  },
  {
   "cell_type": "code",
   "execution_count": null,
   "id": "aa10d9b0-1c27-4d3f-a8e4-db6ab73bfd26",
   "metadata": {
    "id": "aa10d9b0-1c27-4d3f-a8e4-db6ab73bfd26"
   },
   "outputs": [],
   "source": [
    "url= \"https://raw.githubusercontent.com/data-bootcamp-v4/data/main/marketing_customer_analysis_clean.csv\"\n",
    "mkt_analisis = pd.read_csv (\"https://raw.githubusercontent.com/data-bootcamp-v4/data/main/marketing_customer_analysis_clean.csv\")"
   ]
  },
  {
   "cell_type": "code",
   "execution_count": null,
   "id": "5109a5ed-7a2e-4194-9905-a8503fe6c31e",
   "metadata": {},
   "outputs": [],
   "source": [
    "mkt_analisis.head()"
   ]
  },
  {
   "cell_type": "code",
   "execution_count": null,
   "id": "81de16cb-891e-4186-acfe-0426e59fa54c",
   "metadata": {},
   "outputs": [],
   "source": [
    "mkt_analisis.columns"
   ]
  },
  {
   "cell_type": "code",
   "execution_count": null,
   "id": "13d18afa-df58-4571-9cb8-3e7c492da72d",
   "metadata": {},
   "outputs": [],
   "source": [
    "mkt_analisis.shape"
   ]
  },
  {
   "cell_type": "code",
   "execution_count": null,
   "id": "86a4b4d6-1fbc-436f-8ee9-2f6101b749ca",
   "metadata": {},
   "outputs": [],
   "source": [
    "mkt_analisis.info()"
   ]
  },
  {
   "cell_type": "code",
   "execution_count": null,
   "id": "8236ee0d-2c99-4c9f-8b62-0b42f93ce47a",
   "metadata": {},
   "outputs": [],
   "source": [
    "mkt_analisis.describe()"
   ]
  },
  {
   "cell_type": "code",
   "execution_count": null,
   "id": "f174798d-b81e-4847-b213-2b6c5be7a340",
   "metadata": {},
   "outputs": [],
   "source": []
  },
  {
   "cell_type": "markdown",
   "id": "df35fd0d-513e-4e77-867e-429da10a9cc7",
   "metadata": {
    "id": "df35fd0d-513e-4e77-867e-429da10a9cc7"
   },
   "source": [
    "1. You work at the marketing department and you want to know which sales channel brought the most sales in terms of total revenue. Using pivot, create a summary table showing the total revenue for each sales channel (branch, call center, web, and mail).\n",
    "Round the total revenue to 2 decimal points.  Analyze the resulting table to draw insights."
   ]
  },
  {
   "cell_type": "code",
   "execution_count": null,
   "id": "22464d0c-f9cc-43a5-93fa-e8f177ac9485",
   "metadata": {},
   "outputs": [],
   "source": [
    "total_revenue_pivot = pd.pivot_table(mkt_analisis, index='sales_channel', values='total_claim_amount', aggfunc='sum')\n",
    "total_revenue_pivot['Total Revenue'] = total_revenue_pivot['total_claim_amount'].round(2)  # Round to 2 decimal points\n",
    "total_revenue_pivot.drop(columns='total_claim_amount', inplace=True)  # Drop the original column\n",
    "print(\"\\nTotal revenue by sales channel:\")\n",
    "print(total_revenue_pivot)\n"
   ]
  },
  {
   "cell_type": "code",
   "execution_count": null,
   "id": "1e13c9c5-61e9-4fa9-afd8-5f874b75c0a9",
   "metadata": {},
   "outputs": [],
   "source": [
    "mkt_analisis.columns"
   ]
  },
  {
   "cell_type": "markdown",
   "id": "640993b2-a291-436c-a34d-a551144f8196",
   "metadata": {
    "id": "640993b2-a291-436c-a34d-a551144f8196"
   },
   "source": [
    "2. Create a pivot table that shows the average customer lifetime value per gender and education level. Analyze the resulting table to draw insights."
   ]
  },
  {
   "cell_type": "code",
   "execution_count": null,
   "id": "d0b23f65-f483-4b19-a604-65607f18d35e",
   "metadata": {},
   "outputs": [],
   "source": [
    "avg_pivot = pd.pivot_table(mkt_analisis, index=['gender', 'education'], values='customer_lifetime_value', aggfunc='mean')\n",
    "avg_pivot['Average CLV'] = avg_pivot['customer_lifetime_value'].round(2)  # Round to 2 decimal points\n",
    "avg_pivot.drop(columns='customer_lifetime_value', inplace=True)  # Drop the original column\n",
    "print(\"\\nAverage customer lifetime value per gender and education level:\")\n",
    "print(avg_clv_pivot)"
   ]
  },
  {
   "cell_type": "markdown",
   "id": "32c7f2e5-3d90-43e5-be33-9781b6069198",
   "metadata": {
    "id": "32c7f2e5-3d90-43e5-be33-9781b6069198"
   },
   "source": [
    "## Bonus\n",
    "\n",
    "You work at the customer service department and you want to know which months had the highest number of complaints by policy type category. Create a summary table showing the number of complaints by policy type and month.\n",
    "Show it in a long format table."
   ]
  },
  {
   "cell_type": "markdown",
   "id": "e3d09a8f-953c-448a-a5f8-2e5a8cca7291",
   "metadata": {
    "id": "e3d09a8f-953c-448a-a5f8-2e5a8cca7291"
   },
   "source": [
    "*In data analysis, a long format table is a way of structuring data in which each observation or measurement is stored in a separate row of the table. The key characteristic of a long format table is that each column represents a single variable, and each row represents a single observation of that variable.*\n",
    "\n",
    "*More information about long and wide format tables here: https://www.statology.org/long-vs-wide-data/*"
   ]
  },
  {
   "cell_type": "code",
   "execution_count": null,
   "id": "3a069e0b-b400-470e-904d-d17582191be4",
   "metadata": {
    "id": "3a069e0b-b400-470e-904d-d17582191be4"
   },
   "outputs": [],
   "source": [
    "complaints_df = mkt_analisis[mkt_analisis['number_of_open_complaints'] > 0]\n",
    "\n",
    "# Create a pivot table\n",
    "complaints_pivot = pd.pivot_table(complaints_df, index=['policy_type', 'month'], values='number_of_open_complaints', aggfunc='sum')\n",
    "\n",
    "# Reset index to convert the pivot table to a DataFrame\n",
    "complaints_pivot = complaints_pivot.reset_index()\n",
    "\n",
    "# Rename columns for clarity\n",
    "complaints_pivot.columns = ['Policy Type', 'Month', 'Number of Complaints']\n",
    "\n",
    "# Display the resulting table\n",
    "print(\"\\nNumber of complaints by policy type and month (long format):\")\n",
    "print(complaints_pivot)"
   ]
  }
 ],
 "metadata": {
  "colab": {
   "provenance": []
  },
  "kernelspec": {
   "display_name": "Python 3 (ipykernel)",
   "language": "python",
   "name": "python3"
  },
  "language_info": {
   "codemirror_mode": {
    "name": "ipython",
    "version": 3
   },
   "file_extension": ".py",
   "mimetype": "text/x-python",
   "name": "python",
   "nbconvert_exporter": "python",
   "pygments_lexer": "ipython3",
   "version": "3.11.7"
  }
 },
 "nbformat": 4,
 "nbformat_minor": 5
}
